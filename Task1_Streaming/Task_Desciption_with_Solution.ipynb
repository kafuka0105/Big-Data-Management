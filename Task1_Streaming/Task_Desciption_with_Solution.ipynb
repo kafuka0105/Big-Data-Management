{
 "cells": [
  {
   "cell_type": "markdown",
   "metadata": {},
   "source": [
    "# Homework 1 - Streaming (15 pts)\n",
    "\n",
    "### DUE: 02/18/2020 at 5:30pm\n",
    "\n",
    "This homework is for practicing Python’s *generators* and the design of *streaming* algorithms in general. We’re going to use the **taxi_events.csv** and **taxi_trips.csv** data sets. Both of them are available on NYU Classes under *Data Sets* section. You are required to turn in this notebook with all the parts filled in place of <###>. Your notebook must be named BDM\\_HW1\\_NetID.ipynb."
   ]
  },
  {
   "cell_type": "markdown",
   "metadata": {},
   "source": [
    "## Task 1 (8 points)\n",
    "\n",
    "Your task is to **compute the maximum number of active taxi cabs** that were hired at any point in time. This the same as computing the maximum number of taxi cabs that have passengers. The input data set is **taxi_events.csv**, which logged all pick-up and drop-off events for all taxi trips. The description of the fields in this file is as follows:\n",
    "\n",
    "|Column name|Description|\n",
    "|--|--|\n",
    "|time |The timestamp of the event. All events are sorted increasingly by their timestamps. |\n",
    "|vehicle_id |The unique ID of the taxi vehicle involved in this event. |\n",
    "|event |A string of either *\"pickup\"* or *\"dropoff\"* for describing the drop-off or pick-up event, respectively. |\n",
    "\n",
    "For example, let's assume that on *Feb-01-2015*, there was a taxi that picked up a passenger at midnight and dropped her off at 14 minutes past midnight. If the taxi cab has the Vehicle ID of *V102*, then you should see two events being logged in this data set as:\n",
    "\n",
    "<pre>\n",
    "...\n",
    "2015-02-01 00:00:00+00,V102,pickup\n",
    "...\n",
    "2015-02-01 00:14:00+00,V102,dropoff\n",
    "...\n",
    "</pre>\n",
    "\n",
    "You are given the above data set in a streaming fashion (reading in row by row), and must design a streaming algorithm that uses the least possible additional memory to compute the maximum number of hired taxi cabs at any point in time. Again, this is equivalent to having a virtual dispatcher, who repeatedly ask every second *\"how many taxis are being hired (having passengers) at the moment?\"*, and then log the maximum number during the entire period.\n",
    "\n",
    "Please modify the code snippet below to complete this task. Your code should only output a single number, which is the maximum number of hired taxi cabs. Of course, you can add additional initialization codes outside of the for loop as needed. Additional, please provide a brief rationale and/or justification for your design after the code."
   ]
  },
  {
   "cell_type": "code",
   "execution_count": 1,
   "metadata": {},
   "outputs": [],
   "source": [
    "import csv"
   ]
  },
  {
   "cell_type": "code",
   "execution_count": 2,
   "metadata": {},
   "outputs": [
    {
     "data": {
      "text/plain": [
       "250"
      ]
     },
     "execution_count": 2,
     "metadata": {},
     "output_type": "execute_result"
    }
   ],
   "source": [
    "import csv\n",
    "\n",
    "def csvRows(filename):\n",
    "    with open(filename, 'r') as fi:\n",
    "        reader = csv.DictReader(fi)\n",
    "        for row in reader:\n",
    "            yield row\n",
    "\n",
    "maxicarnum = 0\n",
    "counter = 0\n",
    "for row in csvRows('taxi_events.csv'):\n",
    "    if row['event']=='pickup':\n",
    "        counter += 1\n",
    "    else:\n",
    "        counter -= 1\n",
    "    if counter > maxicarnum:\n",
    "        maxicarnum = counter\n",
    "maxicarnum\n"
   ]
  },
  {
   "cell_type": "markdown",
   "metadata": {},
   "source": [
    "#### RATIONALE AND JUSTIFICATION\n",
    "\n",
    "*Please explain your solution here*"
   ]
  },
  {
   "cell_type": "markdown",
   "metadata": {},
   "source": [
    "I initiate maximum number of vehicles at certain moment in the system as 0, and a counter as 0. For each stream of the dataset, since all the events are sorted according to the timeline, when I encounter a pickup event I made counter plus 1, when I counter a dropoff event i made counter minus 1. The counter will be changing following the timeline. I saved the largest number of counter as maxicarnum in a if conditional statement. If counter number increases to be larger than maxicarnum, I saved the counter into maxicarnum. The maxicarnum variable is a ever-increasing number which can store the largest number of vehicles operating in the system at one certain timestamp."
   ]
  },
  {
   "cell_type": "code",
   "execution_count": null,
   "metadata": {},
   "outputs": [],
   "source": []
  },
  {
   "cell_type": "markdown",
   "metadata": {},
   "source": [
    "## Task 2 (7 points)\n",
    "\n",
    "The objective of this task is identical to Task 1's but you are asked to use the full **taxi_trips.csv** data set instead of the events. The main difference (and challenge) is that both pick-up and drop-off event for each trip is now presented in a single record, thus, the drop-off events are not sorted by their timestamps. You are again asked to do this in a streaming fashion that needs to minimize the amount of memory usage. Please modify the code below accordingly, and also with a brief explaination of the solution.\n",
    "\n",
    "Below is the description of the **taxi_trips.csv** file, which is sorted only by the pick-up time:\n",
    "\n",
    "|Column name|Description|\n",
    "|--|--|\n",
    "|trip_duration |The duration of the trip in seconds. This field is for your convenience since it can be derived also from the pick-up and drop-off times. |\n",
    "|pickup_time |The timestamp of the pick-up of the trip. All trip records are sorted increasingly by their pick-up times. |\n",
    "|dropoff_time |The timestamp of the drop-off event. |\n",
    "|vehicle_id |The unique ID of the taxi vehicle involved in this trip record. |\n",
    "\n"
   ]
  },
  {
   "cell_type": "code",
   "execution_count": 4,
   "metadata": {},
   "outputs": [
    {
     "data": {
      "text/plain": [
       "250"
      ]
     },
     "execution_count": 4,
     "metadata": {},
     "output_type": "execute_result"
    }
   ],
   "source": [
    "import csv\n",
    "\n",
    "def csvRows(filename):\n",
    "    with open(filename, 'r') as fi:\n",
    "        reader = csv.DictReader(fi)\n",
    "        for row in reader:\n",
    "            yield row\n",
    "\n",
    "maxicarnum = 0\n",
    "counter = 0\n",
    "dropofftime = []\n",
    "for row in csvRows('taxi_trips.csv'):\n",
    "    counter += 1\n",
    "    dropofftime.append(row['dropoff_time'])\n",
    "    for i in dropofftime:\n",
    "        if (row['pickup_time'] >= i):\n",
    "            counter -= 1\n",
    "            dropofftime.remove(i)\n",
    "    if counter > maxicarnum:\n",
    "        maxicarnum = counter\n",
    "maxicarnum\n"
   ]
  },
  {
   "cell_type": "markdown",
   "metadata": {},
   "source": [
    "#### RATIONALE AND JUSTIFICATION\n",
    "\n",
    "*Please explain your solution here*"
   ]
  },
  {
   "cell_type": "markdown",
   "metadata": {},
   "source": [
    "The overall methodology for the second task is to transfer the question to the first task. I initiate maxicarnum, counter as 0, and an empty list as dropofftime. For every stream of the dataset, since each row is a event of pickup, so that I added 1 to the counter. I saved out the dropoff event for each row in the list. I made a conditional statement that if the pickup event is happened later than the each of the dropoff event stored in the list, at the same time the counter will be decreased by 1 regardless of which vehicle, and I removed the dropoff event in the list to avoid repeated comparison. Following this logic, the counter variable will track the number of vehicles operating in the system following the timeline. Lastly, if counter number increases to be larger than maxicarnum, I saved the counter into maxicarnum. The maxicarnum variable is a ever-increasing number which can store the largest number of vehicles operating in the system at one certain timestamp."
   ]
  },
  {
   "cell_type": "code",
   "execution_count": null,
   "metadata": {},
   "outputs": [],
   "source": []
  }
 ],
 "metadata": {
  "kernelspec": {
   "display_name": "Python 3",
   "language": "python",
   "name": "python3"
  },
  "language_info": {
   "codemirror_mode": {
    "name": "ipython",
    "version": 3
   },
   "file_extension": ".py",
   "mimetype": "text/x-python",
   "name": "python",
   "nbconvert_exporter": "python",
   "pygments_lexer": "ipython3",
   "version": "3.7.3"
  }
 },
 "nbformat": 4,
 "nbformat_minor": 4
}
